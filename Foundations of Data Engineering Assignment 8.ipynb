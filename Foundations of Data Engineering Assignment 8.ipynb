{
 "cells": [
  {
   "cell_type": "code",
   "execution_count": 58,
   "id": "5620f54b",
   "metadata": {},
   "outputs": [],
   "source": [
    "guards = {}\n",
    "guards[\"guard\"] = [\"guard1\", \"guard2\", \"guard3\",\"guard4\", \"guard5\", \"guard6\"]"
   ]
  },
  {
   "cell_type": "code",
   "execution_count": 59,
   "id": "c16b901f",
   "metadata": {},
   "outputs": [],
   "source": [
    "def getcost(num):\n",
    "    if num <= 8:\n",
    "        cost = 15 * num\n",
    "    else:\n",
    "        cost = 20*(num-8) + 15*8\n",
    "    return cost"
   ]
  },
  {
   "cell_type": "code",
   "execution_count": 60,
   "id": "2ba41211",
   "metadata": {},
   "outputs": [],
   "source": [
    "def assign_shift(patrol_list, shifts):\n",
    "    for x in guards[patrol_list]:\n",
    "        guards[x] = 0 \n",
    "        \n",
    "    shifts_needed = shifts\n",
    "    shifts_covered = {}\n",
    "    \n",
    "    #Calculate Regular Hours\n",
    "    for person in guards[patrol_list]:\n",
    "        if shifts_needed != 0:\n",
    "            if guards[person]<=8:\n",
    "                current_hours = guards[person]\n",
    "                regular_hours = 8 - current_hours\n",
    "                \n",
    "                if regular_hours > shifts_needed:\n",
    "                    regular_hours = shifts_needed\n",
    "        \n",
    "                guards[person]= current_hours+regular_hours\n",
    "\n",
    "                shifts_needed = shifts_needed - regular_hours\n",
    "                shifts_covered[person] = regular_hours\n",
    "    #Calculate Overtime Hours, assumes 24 hour limit   \n",
    "    for person in guards[patrol_list]:\n",
    "        if shifts_needed > 0:\n",
    "            if guards[person] == 8:\n",
    "                current_hours = guards[person]\n",
    "                overtime = 24-current_hours\n",
    "                    \n",
    "                if overtime > shifts_needed:\n",
    "                    overtime = shifts_needed\n",
    "\n",
    "                guards[person]= current_hours+overtime\n",
    "                shifts_needed = shifts_needed - overtime\n",
    "                shifts_covered[person] = current_hours +overtime\n",
    "    return shifts_covered\n",
    "    "
   ]
  },
  {
   "cell_type": "code",
   "execution_count": 61,
   "id": "0e81ae64",
   "metadata": {},
   "outputs": [],
   "source": [
    "covered_shifts = assign_shift('guard', 24)"
   ]
  },
  {
   "cell_type": "code",
   "execution_count": 62,
   "id": "3ae17c86",
   "metadata": {},
   "outputs": [
    {
     "data": {
      "text/plain": [
       "{'guard1': 8, 'guard2': 8, 'guard3': 8}"
      ]
     },
     "execution_count": 62,
     "metadata": {},
     "output_type": "execute_result"
    }
   ],
   "source": [
    "covered_shifts"
   ]
  },
  {
   "cell_type": "code",
   "execution_count": 41,
   "id": "e2669359",
   "metadata": {},
   "outputs": [],
   "source": [
    "wages = {}\n",
    "total = 0\n",
    "for key, value in covered_shifts.items():\n",
    "    cost = getcost(value)\n",
    "    wages[key] = cost\n",
    "    total += cost"
   ]
  },
  {
   "cell_type": "code",
   "execution_count": 42,
   "id": "6a058c6b",
   "metadata": {},
   "outputs": [
    {
     "name": "stdout",
     "output_type": "stream",
     "text": [
      "{'guard1': 120, 'guard2': 120, 'guard3': 120}\n",
      "360\n"
     ]
    }
   ],
   "source": [
    "print(wages)\n",
    "print(total)"
   ]
  },
  {
   "cell_type": "markdown",
   "id": "aa4324e1",
   "metadata": {},
   "source": [
    "# Explanation/Executive Summary\n",
    "\n",
    "## The algorithm I created is pretty simple. First, it checks to see if the hours needed is not equal to zero. Then, it assigns the guard 8 hours (if the 8 hours assigned to the guard is greater than the hours needed, the algorithm corrects for this by assigning the guard the remaining hours needed instead of 8). The hours are then subtracted from the hours needed and the process repeats with the other guards. After that, the algorithm calculates the overtime hours and adds them to the current hours of the guards with the regular hours if there are still hours left over after the initial loop. Once that is all done, the amount is calculated with the cost function and the amounts are totaled up.\n",
    "\n",
    "## This algorithm is greedy because it simply assumes the idea that assigning the guards no overtime hours is the best way to approach the problem and keeps costs down. If the amount of hours exceeds 8, the algorithm moves on to the next guard unless there are not enough guards to fill the initial amount of hours with 8 hours, then the algorithm would proceed to assign as many overtime hours as possible to one guard.\n",
    "\n",
    "## The algorithm is quite simple. Really the parameters are to start with regular hours, assign them to the guards appropriately and then stack the guards with overtime hours until it reaches 24 (assuming guards cannot work for more than 24 hours). However, the algorithm does not work whenever there are more regular hours than 8 and more than 24 hour shifts. The fact of the matter is that these limitations are built into the algorithm. However, it would be easy to just add two parameters to the function that would set those ceilings. Either that, or just change out the numbers in the code. Also, the algorithm would break if there are more hours needed than would be possible to assign to the guards based on the total hour ceiling.\n",
    "\n",
    "## The algorithm did provide the most optimal output. 8 Hours assigned to 3 guards makes complete sense and the calculations I inputted for using 2 guards to fill the 24 hours added up to a total cost of 400 rather than 360. It seems that 360 is the best way to lower cost for the 24 hour period. This optimal algorithm does not break even when it assigns overtime hours. This is because once the regular hours of shifts are assigned to the 6 guards, the cost remains the same to assign each guard extra hours. For instance, it would be the same cost to assign one guard 2 overtime hours as 2 guards 1 overtime hour. Unless there was another added cost, it makes more sense to simply give 1 guard the 24 hours and keep filling that backlog until the hours needed are calculated.\n",
    "\n",
    "## To be truthful, I don't see any scenario where I would not use a greedy algorithm for this problem. The costs are uniform accross all the guards and at first assigning the guards by regular hours and then overtime hours makes complete sense from both a practical and greedy standpoint.\n",
    "\n",
    "## Exploring greedy algorithms make sense for data engineers since it's an algorithm that can solve problems at a high speed. Most greedy algorithms have a big O notation of O(n) meaning that they tend to grow as the problem size increases. It is often more optimal to compare greedy algorithms since some are incredibly fast and some can perform quite slowly. While performance was not that goal measurement of this exercise, this is a fact worth noting."
   ]
  },
  {
   "cell_type": "code",
   "execution_count": null,
   "id": "8a69d5e0",
   "metadata": {},
   "outputs": [],
   "source": []
  }
 ],
 "metadata": {
  "kernelspec": {
   "display_name": "Python 3 (ipykernel)",
   "language": "python",
   "name": "python3"
  },
  "language_info": {
   "codemirror_mode": {
    "name": "ipython",
    "version": 3
   },
   "file_extension": ".py",
   "mimetype": "text/x-python",
   "name": "python",
   "nbconvert_exporter": "python",
   "pygments_lexer": "ipython3",
   "version": "3.8.5"
  }
 },
 "nbformat": 4,
 "nbformat_minor": 5
}
